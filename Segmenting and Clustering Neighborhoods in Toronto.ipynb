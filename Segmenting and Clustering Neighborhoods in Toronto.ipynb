{
    "nbformat_minor": 1, 
    "cells": [
        {
            "execution_count": 1, 
            "cell_type": "code", 
            "metadata": {}, 
            "outputs": [], 
            "source": "import numpy as np # library to handle data in a vectorized manner\n\nimport pandas as pd # library for data analsysis\n\nfrom bs4 import BeautifulSoup\nimport requests\n"
        }, 
        {
            "execution_count": 54, 
            "cell_type": "code", 
            "metadata": {}, 
            "outputs": [], 
            "source": "source = requests.get('https://en.wikipedia.org/wiki/List_of_postal_codes_of_Canada:_M').text\nsoup = BeautifulSoup(source, 'html.parser')\n\n#print(soup.prettify())\n#soup.title.string\n#soup.find_all(\"tr\")\n"
        }, 
        {
            "execution_count": 55, 
            "cell_type": "code", 
            "metadata": {}, 
            "outputs": [], 
            "source": "# define the dataframe columns\ncolumn_names = ['PostalCode', 'Borough', 'Neighborhood'] \n\n# instantiate the dataframe\nToronto_nbh = pd.DataFrame(columns=column_names)"
        }, 
        {
            "execution_count": 56, 
            "cell_type": "code", 
            "metadata": {}, 
            "outputs": [], 
            "source": "for data in soup.find_all('tr'):\n    data_1 = data.find('td')\n#    print(data_1)\n    if data_1 != None and data_1.string != None:\n        if data_1.string[0] == 'M':\n            postalcode = data_1.string\n#            print(postalcode)\n            \n            data_2 = data_1.next_sibling.next_sibling\n#            print(data_2)\n            try:\n                borough = data_2.find('a').text\n#                print(borough)\n\n                data_3 = data_2.next_sibling.next_sibling\n#                print(data_3)\n                try:\n                    neighborhood = data_3.find('a').text\n                except Exception as e:\n                    neighborhood = borough  #If a cell has a borough but a Not assigned neighborhood, then the neighborhood will be the same as the borough\n#                print(neighborhood)\n            \n                Toronto_nbh = Toronto_nbh.append({'PostalCode': postalcode,\n                                                  'Borough': borough,\n                                                  'Neighborhood': neighborhood}, ignore_index=True)\n            \n            except Exception as e:\n                borough = data_2.string  #Ignore cells with a borough that is Not assigned.\n                            \n"
        }, 
        {
            "execution_count": 57, 
            "cell_type": "code", 
            "metadata": {}, 
            "outputs": [
                {
                    "execution_count": 57, 
                    "metadata": {}, 
                    "data": {
                        "text/html": "<div>\n<style scoped>\n    .dataframe tbody tr th:only-of-type {\n        vertical-align: middle;\n    }\n\n    .dataframe tbody tr th {\n        vertical-align: top;\n    }\n\n    .dataframe thead th {\n        text-align: right;\n    }\n</style>\n<table border=\"1\" class=\"dataframe\">\n  <thead>\n    <tr style=\"text-align: right;\">\n      <th></th>\n      <th>PostalCode</th>\n      <th>Borough</th>\n      <th>Neighborhood</th>\n    </tr>\n  </thead>\n  <tbody>\n    <tr>\n      <th>0</th>\n      <td>M3A</td>\n      <td>North York</td>\n      <td>Parkwoods</td>\n    </tr>\n    <tr>\n      <th>1</th>\n      <td>M4A</td>\n      <td>North York</td>\n      <td>Victoria Village</td>\n    </tr>\n    <tr>\n      <th>2</th>\n      <td>M5A</td>\n      <td>Downtown Toronto</td>\n      <td>Harbourfront</td>\n    </tr>\n    <tr>\n      <th>3</th>\n      <td>M5A</td>\n      <td>Downtown Toronto</td>\n      <td>Regent Park</td>\n    </tr>\n    <tr>\n      <th>4</th>\n      <td>M6A</td>\n      <td>North York</td>\n      <td>Lawrence Heights</td>\n    </tr>\n    <tr>\n      <th>5</th>\n      <td>M6A</td>\n      <td>North York</td>\n      <td>Lawrence Manor</td>\n    </tr>\n    <tr>\n      <th>6</th>\n      <td>M7A</td>\n      <td>Queen's Park</td>\n      <td>Queen's Park</td>\n    </tr>\n    <tr>\n      <th>7</th>\n      <td>M9A</td>\n      <td>Etobicoke</td>\n      <td>Islington Avenue</td>\n    </tr>\n    <tr>\n      <th>8</th>\n      <td>M1B</td>\n      <td>Scarborough</td>\n      <td>Rouge</td>\n    </tr>\n    <tr>\n      <th>9</th>\n      <td>M1B</td>\n      <td>Scarborough</td>\n      <td>Malvern</td>\n    </tr>\n    <tr>\n      <th>10</th>\n      <td>M3B</td>\n      <td>North York</td>\n      <td>North York</td>\n    </tr>\n    <tr>\n      <th>11</th>\n      <td>M4B</td>\n      <td>East York</td>\n      <td>Woodbine Gardens</td>\n    </tr>\n    <tr>\n      <th>12</th>\n      <td>M4B</td>\n      <td>East York</td>\n      <td>Parkview Hill</td>\n    </tr>\n    <tr>\n      <th>13</th>\n      <td>M5B</td>\n      <td>Downtown Toronto</td>\n      <td>Downtown Toronto</td>\n    </tr>\n    <tr>\n      <th>14</th>\n      <td>M5B</td>\n      <td>Downtown Toronto</td>\n      <td>Downtown Toronto</td>\n    </tr>\n    <tr>\n      <th>15</th>\n      <td>M6B</td>\n      <td>North York</td>\n      <td>North York</td>\n    </tr>\n    <tr>\n      <th>16</th>\n      <td>M9B</td>\n      <td>Etobicoke</td>\n      <td>Etobicoke</td>\n    </tr>\n    <tr>\n      <th>17</th>\n      <td>M9B</td>\n      <td>Etobicoke</td>\n      <td>Islington</td>\n    </tr>\n    <tr>\n      <th>18</th>\n      <td>M9B</td>\n      <td>Etobicoke</td>\n      <td>Etobicoke</td>\n    </tr>\n    <tr>\n      <th>19</th>\n      <td>M9B</td>\n      <td>Etobicoke</td>\n      <td>Princess Gardens</td>\n    </tr>\n  </tbody>\n</table>\n</div>", 
                        "text/plain": "   PostalCode           Borough      Neighborhood\n0         M3A        North York         Parkwoods\n1         M4A        North York  Victoria Village\n2         M5A  Downtown Toronto      Harbourfront\n3         M5A  Downtown Toronto       Regent Park\n4         M6A        North York  Lawrence Heights\n5         M6A        North York    Lawrence Manor\n6         M7A      Queen's Park      Queen's Park\n7         M9A         Etobicoke  Islington Avenue\n8         M1B       Scarborough             Rouge\n9         M1B       Scarborough           Malvern\n10        M3B        North York        North York\n11        M4B         East York  Woodbine Gardens\n12        M4B         East York     Parkview Hill\n13        M5B  Downtown Toronto  Downtown Toronto\n14        M5B  Downtown Toronto  Downtown Toronto\n15        M6B        North York        North York\n16        M9B         Etobicoke         Etobicoke\n17        M9B         Etobicoke         Islington\n18        M9B         Etobicoke         Etobicoke\n19        M9B         Etobicoke  Princess Gardens"
                    }, 
                    "output_type": "execute_result"
                }
            ], 
            "source": "Toronto_nbh.head(20)"
        }, 
        {
            "execution_count": 58, 
            "cell_type": "code", 
            "metadata": {}, 
            "outputs": [], 
            "source": "def nstrcat(arr):\n    return ','.join(arr)\n\nToronto_nbh = Toronto_nbh.groupby(['PostalCode','Borough'], as_index=False).agg(nstrcat)"
        }, 
        {
            "execution_count": 61, 
            "cell_type": "code", 
            "metadata": {}, 
            "outputs": [
                {
                    "execution_count": 61, 
                    "metadata": {}, 
                    "data": {
                        "text/html": "<div>\n<style scoped>\n    .dataframe tbody tr th:only-of-type {\n        vertical-align: middle;\n    }\n\n    .dataframe tbody tr th {\n        vertical-align: top;\n    }\n\n    .dataframe thead th {\n        text-align: right;\n    }\n</style>\n<table border=\"1\" class=\"dataframe\">\n  <thead>\n    <tr style=\"text-align: right;\">\n      <th></th>\n      <th>PostalCode</th>\n      <th>Borough</th>\n      <th>Neighborhood</th>\n    </tr>\n  </thead>\n  <tbody>\n    <tr>\n      <th>0</th>\n      <td>M1B</td>\n      <td>Scarborough</td>\n      <td>Rouge,Malvern</td>\n    </tr>\n    <tr>\n      <th>1</th>\n      <td>M1C</td>\n      <td>Scarborough</td>\n      <td>Highland Creek,Rouge Hill,Port Union</td>\n    </tr>\n    <tr>\n      <th>2</th>\n      <td>M1E</td>\n      <td>Scarborough</td>\n      <td>Scarborough,Morningside,West Hill</td>\n    </tr>\n    <tr>\n      <th>3</th>\n      <td>M1G</td>\n      <td>Scarborough</td>\n      <td>Woburn</td>\n    </tr>\n    <tr>\n      <th>4</th>\n      <td>M1H</td>\n      <td>Scarborough</td>\n      <td>Scarborough</td>\n    </tr>\n    <tr>\n      <th>5</th>\n      <td>M1J</td>\n      <td>Scarborough</td>\n      <td>Scarborough Village</td>\n    </tr>\n    <tr>\n      <th>6</th>\n      <td>M1K</td>\n      <td>Scarborough</td>\n      <td>Scarborough,Ionview,Kennedy Park</td>\n    </tr>\n    <tr>\n      <th>7</th>\n      <td>M1L</td>\n      <td>Scarborough</td>\n      <td>Clairlea,Golden Mile,Oakridge</td>\n    </tr>\n    <tr>\n      <th>8</th>\n      <td>M1M</td>\n      <td>Scarborough</td>\n      <td>Cliffcrest,Cliffside,Scarborough</td>\n    </tr>\n    <tr>\n      <th>9</th>\n      <td>M1N</td>\n      <td>Scarborough</td>\n      <td>Birch Cliff,Scarborough</td>\n    </tr>\n    <tr>\n      <th>10</th>\n      <td>M1P</td>\n      <td>Scarborough</td>\n      <td>Dorset Park,Scarborough Town Centre,Wexford He...</td>\n    </tr>\n    <tr>\n      <th>11</th>\n      <td>M1R</td>\n      <td>Scarborough</td>\n      <td>Maryvale,Wexford</td>\n    </tr>\n    <tr>\n      <th>12</th>\n      <td>M1S</td>\n      <td>Scarborough</td>\n      <td>Agincourt</td>\n    </tr>\n    <tr>\n      <th>13</th>\n      <td>M1T</td>\n      <td>Scarborough</td>\n      <td>Scarborough,Scarborough,Tam O'Shanter</td>\n    </tr>\n    <tr>\n      <th>14</th>\n      <td>M1V</td>\n      <td>Scarborough</td>\n      <td>Agincourt North,Scarborough,Milliken,Scarborough</td>\n    </tr>\n    <tr>\n      <th>15</th>\n      <td>M1W</td>\n      <td>Scarborough</td>\n      <td>Scarborough</td>\n    </tr>\n    <tr>\n      <th>16</th>\n      <td>M1X</td>\n      <td>Scarborough</td>\n      <td>Upper Rouge</td>\n    </tr>\n    <tr>\n      <th>17</th>\n      <td>M2H</td>\n      <td>North York</td>\n      <td>Hillcrest Village</td>\n    </tr>\n    <tr>\n      <th>18</th>\n      <td>M2J</td>\n      <td>North York</td>\n      <td>North York,Henry Farm,North York</td>\n    </tr>\n    <tr>\n      <th>19</th>\n      <td>M2K</td>\n      <td>North York</td>\n      <td>Bayview Village</td>\n    </tr>\n    <tr>\n      <th>20</th>\n      <td>M2L</td>\n      <td>North York</td>\n      <td>North York,York Mills</td>\n    </tr>\n    <tr>\n      <th>21</th>\n      <td>M2M</td>\n      <td>North York</td>\n      <td>Newtonbrook,Willowdale</td>\n    </tr>\n    <tr>\n      <th>22</th>\n      <td>M2N</td>\n      <td>North York</td>\n      <td>North York</td>\n    </tr>\n    <tr>\n      <th>23</th>\n      <td>M2P</td>\n      <td>North York</td>\n      <td>North York</td>\n    </tr>\n    <tr>\n      <th>24</th>\n      <td>M2R</td>\n      <td>North York</td>\n      <td>Willowdale West</td>\n    </tr>\n    <tr>\n      <th>25</th>\n      <td>M3A</td>\n      <td>North York</td>\n      <td>Parkwoods</td>\n    </tr>\n    <tr>\n      <th>26</th>\n      <td>M3B</td>\n      <td>North York</td>\n      <td>North York</td>\n    </tr>\n    <tr>\n      <th>27</th>\n      <td>M3C</td>\n      <td>North York</td>\n      <td>Flemingdon Park,North York</td>\n    </tr>\n    <tr>\n      <th>28</th>\n      <td>M3H</td>\n      <td>North York</td>\n      <td>Bathurst Manor,North York,Wilson Heights</td>\n    </tr>\n    <tr>\n      <th>29</th>\n      <td>M3J</td>\n      <td>North York</td>\n      <td>Northwood Park,York University</td>\n    </tr>\n    <tr>\n      <th>...</th>\n      <td>...</td>\n      <td>...</td>\n      <td>...</td>\n    </tr>\n    <tr>\n      <th>70</th>\n      <td>M5X</td>\n      <td>Downtown Toronto</td>\n      <td>First Canadian Place,Underground city</td>\n    </tr>\n    <tr>\n      <th>71</th>\n      <td>M6A</td>\n      <td>North York</td>\n      <td>Lawrence Heights,Lawrence Manor</td>\n    </tr>\n    <tr>\n      <th>72</th>\n      <td>M6B</td>\n      <td>North York</td>\n      <td>North York</td>\n    </tr>\n    <tr>\n      <th>73</th>\n      <td>M6G</td>\n      <td>Downtown Toronto</td>\n      <td>Downtown Toronto</td>\n    </tr>\n    <tr>\n      <th>74</th>\n      <td>M6H</td>\n      <td>West Toronto</td>\n      <td>Dovercourt Village,West Toronto</td>\n    </tr>\n    <tr>\n      <th>75</th>\n      <td>M6J</td>\n      <td>West Toronto</td>\n      <td>Little Portugal,Trinity</td>\n    </tr>\n    <tr>\n      <th>76</th>\n      <td>M6K</td>\n      <td>West Toronto</td>\n      <td>West Toronto,Exhibition Place,Parkdale Village</td>\n    </tr>\n    <tr>\n      <th>77</th>\n      <td>M6L</td>\n      <td>North York</td>\n      <td>Downsview,North York,North York</td>\n    </tr>\n    <tr>\n      <th>78</th>\n      <td>M6M</td>\n      <td>York</td>\n      <td>York,Keelesdale,Mount Dennis,Silverthorn</td>\n    </tr>\n    <tr>\n      <th>79</th>\n      <td>M6N</td>\n      <td>York</td>\n      <td>York,York</td>\n    </tr>\n    <tr>\n      <th>80</th>\n      <td>M6P</td>\n      <td>West Toronto</td>\n      <td>High Park,West Toronto</td>\n    </tr>\n    <tr>\n      <th>81</th>\n      <td>M6R</td>\n      <td>West Toronto</td>\n      <td>Parkdale,Roncesvalles</td>\n    </tr>\n    <tr>\n      <th>82</th>\n      <td>M6S</td>\n      <td>West Toronto</td>\n      <td>Runnymede,Swansea</td>\n    </tr>\n    <tr>\n      <th>83</th>\n      <td>M7A</td>\n      <td>Queen's Park</td>\n      <td>Queen's Park</td>\n    </tr>\n    <tr>\n      <th>84</th>\n      <td>M7Y</td>\n      <td>East Toronto</td>\n      <td>East Toronto</td>\n    </tr>\n    <tr>\n      <th>85</th>\n      <td>M8V</td>\n      <td>Etobicoke</td>\n      <td>Etobicoke,Etobicoke,New Toronto</td>\n    </tr>\n    <tr>\n      <th>86</th>\n      <td>M8W</td>\n      <td>Etobicoke</td>\n      <td>Alderwood,Long Branch</td>\n    </tr>\n    <tr>\n      <th>87</th>\n      <td>M8X</td>\n      <td>Etobicoke</td>\n      <td>The Kingsway,Etobicoke,Etobicoke</td>\n    </tr>\n    <tr>\n      <th>88</th>\n      <td>M8Y</td>\n      <td>Etobicoke</td>\n      <td>Humber Bay,Etobicoke,Etobicoke,Mimico NE,Old M...</td>\n    </tr>\n    <tr>\n      <th>89</th>\n      <td>M8Z</td>\n      <td>Etobicoke</td>\n      <td>Etobicoke,Mimico NW,The Queensway West,Etobico...</td>\n    </tr>\n    <tr>\n      <th>90</th>\n      <td>M9A</td>\n      <td>Etobicoke</td>\n      <td>Islington Avenue</td>\n    </tr>\n    <tr>\n      <th>91</th>\n      <td>M9B</td>\n      <td>Etobicoke</td>\n      <td>Etobicoke,Islington,Etobicoke,Princess Gardens...</td>\n    </tr>\n    <tr>\n      <th>92</th>\n      <td>M9C</td>\n      <td>Etobicoke</td>\n      <td>Etobicoke,Etobicoke,Markland Wood,Etobicoke</td>\n    </tr>\n    <tr>\n      <th>93</th>\n      <td>M9L</td>\n      <td>North York</td>\n      <td>Humber Summit</td>\n    </tr>\n    <tr>\n      <th>94</th>\n      <td>M9M</td>\n      <td>North York</td>\n      <td>Emery,Humberlea</td>\n    </tr>\n    <tr>\n      <th>95</th>\n      <td>M9N</td>\n      <td>York</td>\n      <td>Weston</td>\n    </tr>\n    <tr>\n      <th>96</th>\n      <td>M9P</td>\n      <td>Etobicoke</td>\n      <td>Etobicoke</td>\n    </tr>\n    <tr>\n      <th>97</th>\n      <td>M9R</td>\n      <td>Etobicoke</td>\n      <td>Kingsview Village,Etobicoke,Etobicoke,Etobicoke</td>\n    </tr>\n    <tr>\n      <th>98</th>\n      <td>M9V</td>\n      <td>Etobicoke</td>\n      <td>Etobicoke,Beaumond Heights,Etobicoke,Jamestown...</td>\n    </tr>\n    <tr>\n      <th>99</th>\n      <td>M9W</td>\n      <td>Etobicoke</td>\n      <td>Etobicoke</td>\n    </tr>\n  </tbody>\n</table>\n<p>100 rows \u00d7 3 columns</p>\n</div>", 
                        "text/plain": "   PostalCode           Borough  \\\n0         M1B       Scarborough   \n1         M1C       Scarborough   \n2         M1E       Scarborough   \n3         M1G       Scarborough   \n4         M1H       Scarborough   \n5         M1J       Scarborough   \n6         M1K       Scarborough   \n7         M1L       Scarborough   \n8         M1M       Scarborough   \n9         M1N       Scarborough   \n10        M1P       Scarborough   \n11        M1R       Scarborough   \n12        M1S       Scarborough   \n13        M1T       Scarborough   \n14        M1V       Scarborough   \n15        M1W       Scarborough   \n16        M1X       Scarborough   \n17        M2H        North York   \n18        M2J        North York   \n19        M2K        North York   \n20        M2L        North York   \n21        M2M        North York   \n22        M2N        North York   \n23        M2P        North York   \n24        M2R        North York   \n25        M3A        North York   \n26        M3B        North York   \n27        M3C        North York   \n28        M3H        North York   \n29        M3J        North York   \n..        ...               ...   \n70        M5X  Downtown Toronto   \n71        M6A        North York   \n72        M6B        North York   \n73        M6G  Downtown Toronto   \n74        M6H      West Toronto   \n75        M6J      West Toronto   \n76        M6K      West Toronto   \n77        M6L        North York   \n78        M6M              York   \n79        M6N              York   \n80        M6P      West Toronto   \n81        M6R      West Toronto   \n82        M6S      West Toronto   \n83        M7A      Queen's Park   \n84        M7Y      East Toronto   \n85        M8V         Etobicoke   \n86        M8W         Etobicoke   \n87        M8X         Etobicoke   \n88        M8Y         Etobicoke   \n89        M8Z         Etobicoke   \n90        M9A         Etobicoke   \n91        M9B         Etobicoke   \n92        M9C         Etobicoke   \n93        M9L        North York   \n94        M9M        North York   \n95        M9N              York   \n96        M9P         Etobicoke   \n97        M9R         Etobicoke   \n98        M9V         Etobicoke   \n99        M9W         Etobicoke   \n\n                                         Neighborhood  \n0                                       Rouge,Malvern  \n1                Highland Creek,Rouge Hill,Port Union  \n2                   Scarborough,Morningside,West Hill  \n3                                              Woburn  \n4                                         Scarborough  \n5                                 Scarborough Village  \n6                    Scarborough,Ionview,Kennedy Park  \n7                       Clairlea,Golden Mile,Oakridge  \n8                    Cliffcrest,Cliffside,Scarborough  \n9                             Birch Cliff,Scarborough  \n10  Dorset Park,Scarborough Town Centre,Wexford He...  \n11                                   Maryvale,Wexford  \n12                                          Agincourt  \n13              Scarborough,Scarborough,Tam O'Shanter  \n14   Agincourt North,Scarborough,Milliken,Scarborough  \n15                                        Scarborough  \n16                                        Upper Rouge  \n17                                  Hillcrest Village  \n18                   North York,Henry Farm,North York  \n19                                    Bayview Village  \n20                              North York,York Mills  \n21                             Newtonbrook,Willowdale  \n22                                         North York  \n23                                         North York  \n24                                    Willowdale West  \n25                                          Parkwoods  \n26                                         North York  \n27                         Flemingdon Park,North York  \n28           Bathurst Manor,North York,Wilson Heights  \n29                     Northwood Park,York University  \n..                                                ...  \n70              First Canadian Place,Underground city  \n71                    Lawrence Heights,Lawrence Manor  \n72                                         North York  \n73                                   Downtown Toronto  \n74                    Dovercourt Village,West Toronto  \n75                            Little Portugal,Trinity  \n76     West Toronto,Exhibition Place,Parkdale Village  \n77                    Downsview,North York,North York  \n78           York,Keelesdale,Mount Dennis,Silverthorn  \n79                                          York,York  \n80                             High Park,West Toronto  \n81                              Parkdale,Roncesvalles  \n82                                  Runnymede,Swansea  \n83                                       Queen's Park  \n84                                       East Toronto  \n85                    Etobicoke,Etobicoke,New Toronto  \n86                              Alderwood,Long Branch  \n87                   The Kingsway,Etobicoke,Etobicoke  \n88  Humber Bay,Etobicoke,Etobicoke,Mimico NE,Old M...  \n89  Etobicoke,Mimico NW,The Queensway West,Etobico...  \n90                                   Islington Avenue  \n91  Etobicoke,Islington,Etobicoke,Princess Gardens...  \n92        Etobicoke,Etobicoke,Markland Wood,Etobicoke  \n93                                      Humber Summit  \n94                                    Emery,Humberlea  \n95                                             Weston  \n96                                          Etobicoke  \n97    Kingsview Village,Etobicoke,Etobicoke,Etobicoke  \n98  Etobicoke,Beaumond Heights,Etobicoke,Jamestown...  \n99                                          Etobicoke  \n\n[100 rows x 3 columns]"
                    }, 
                    "output_type": "execute_result"
                }
            ], 
            "source": "Toronto_nbh.head(100)"
        }, 
        {
            "execution_count": 60, 
            "cell_type": "code", 
            "metadata": {}, 
            "outputs": [
                {
                    "execution_count": 60, 
                    "metadata": {}, 
                    "data": {
                        "text/plain": "(100, 3)"
                    }, 
                    "output_type": "execute_result"
                }
            ], 
            "source": "Toronto_nbh.shape"
        }, 
        {
            "execution_count": null, 
            "cell_type": "code", 
            "metadata": {}, 
            "outputs": [], 
            "source": ""
        }
    ], 
    "metadata": {
        "kernelspec": {
            "display_name": "Python 3.5", 
            "name": "python3", 
            "language": "python"
        }, 
        "language_info": {
            "mimetype": "text/x-python", 
            "nbconvert_exporter": "python", 
            "version": "3.5.5", 
            "name": "python", 
            "file_extension": ".py", 
            "pygments_lexer": "ipython3", 
            "codemirror_mode": {
                "version": 3, 
                "name": "ipython"
            }
        }
    }, 
    "nbformat": 4
}